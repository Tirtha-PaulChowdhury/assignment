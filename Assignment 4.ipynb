{
 "cells": [
  {
   "cell_type": "markdown",
   "metadata": {},
   "source": [
    "# Assignment 4"
   ]
  },
  {
   "cell_type": "markdown",
   "metadata": {},
   "source": [
    "##### 1.1 Write a Python Program(with class concepts) to find the area of the triangle using the below formula.\n",
    "##### area = (s*(s-a)*(s-b)*(s-c)) ** 0.5\n",
    "##### Function to take the length of the sides of triangle from user should be defined in the parent class and function to calculate the area should be defined in subclass."
   ]
  },
  {
   "cell_type": "code",
   "execution_count": 11,
   "metadata": {},
   "outputs": [
    {
     "name": "stdout",
     "output_type": "stream",
     "text": [
      "3\n",
      "5\n",
      "6\n",
      "The area of the triangle is =  7.483314773547883\n"
     ]
    }
   ],
   "source": [
    "class Triangle:\n",
    "\n",
    "  def __init__(self , first , second , third):\n",
    "    self.first = first\n",
    "    self.second = second\n",
    "    self.third = third\n",
    "\n",
    "\n",
    "class Area(Triangle):\n",
    "  \n",
    "  def Area_triang(self):  \n",
    "    s = (self.first + self.second + self.third)/2\n",
    "    return (s*(s-self.first)*(s - self.second)*(s-self.third))**0.5\n",
    "\n",
    "a = int(input())\n",
    "b = int(input())\n",
    "c = int(input())\n",
    "triang_1 = Triangle(a,b,c)  \n",
    "\n",
    "\n",
    "print('The area of the triangle is = ' , Area.Area_triang(triang_1))"
   ]
  },
  {
   "cell_type": "markdown",
   "metadata": {},
   "source": [
    "##### 1.2 Write a function filter_long_words() that takes a list of words and an integer n and returns the list of words that are longer than n."
   ]
  },
  {
   "cell_type": "code",
   "execution_count": 1,
   "metadata": {},
   "outputs": [
    {
     "name": "stdout",
     "output_type": "stream",
     "text": [
      "['tirtha', 'rittika', 'chowdhury', 'kanjilal']\n"
     ]
    }
   ],
   "source": [
    "def filter_long_words(list , n):\n",
    "  m = []\n",
    "  for item in list:\n",
    "    if len(item)>n:\n",
    "      m.append(item)\n",
    "  return m\n",
    "\n",
    "a = ['tirtha' , 'rittika' , 'paul' , 'chowdhury' , 'kanjilal']\n",
    "n = 5\n",
    "print(filter_long_words(a,n))\n"
   ]
  },
  {
   "cell_type": "markdown",
   "metadata": {},
   "source": [
    "##### 2.1 Write a Python program using function concept that maps list of words into a list of integers representing the lengths of the corresponding words. Hint: If a list [ ab,cde,erty] is passed on to the python function output should come as [2,3,4] Here 2,3 and 4 are the lengths of the words in the list."
   ]
  },
  {
   "cell_type": "code",
   "execution_count": 2,
   "metadata": {},
   "outputs": [
    {
     "name": "stdout",
     "output_type": "stream",
     "text": [
      "[6, 7, 4, 9, 8]\n"
     ]
    }
   ],
   "source": [
    "def number_of_letters(list):\n",
    "  m = []\n",
    "  for item in list:\n",
    "    m.append(len(item))\n",
    "  return m\n",
    "\n",
    "a = ['tirtha' , 'rittika' , 'paul' , 'chowdhury' , 'kanjilal']\n",
    "print(number_of_letters(a))"
   ]
  },
  {
   "cell_type": "markdown",
   "metadata": {},
   "source": [
    "##### 2.2 Write a Python function which takes a character (i.e. a string of length 1) and returns True if it is a vowel, False otherwise."
   ]
  },
  {
   "cell_type": "code",
   "execution_count": 3,
   "metadata": {},
   "outputs": [
    {
     "name": "stdout",
     "output_type": "stream",
     "text": [
      "r\n",
      "False\n",
      "a\n",
      "True\n"
     ]
    }
   ],
   "source": [
    "def vowel(a):\n",
    "  if a=='a' or a=='e' or a=='i' or a=='o' or a=='u' or a=='A' or a=='E' or a=='I' or a=='O' or a=='U':\n",
    "    return True\n",
    "  else:\n",
    "    return False\n",
    "\n",
    "a = input()\n",
    "print(vowel(a))\n",
    "b = input()\n",
    "print(vowel(b))"
   ]
  },
  {
   "cell_type": "code",
   "execution_count": null,
   "metadata": {},
   "outputs": [],
   "source": []
  }
 ],
 "metadata": {
  "kernelspec": {
   "display_name": "Python 3",
   "language": "python",
   "name": "python3"
  },
  "language_info": {
   "codemirror_mode": {
    "name": "ipython",
    "version": 3
   },
   "file_extension": ".py",
   "mimetype": "text/x-python",
   "name": "python",
   "nbconvert_exporter": "python",
   "pygments_lexer": "ipython3",
   "version": "3.7.4"
  }
 },
 "nbformat": 4,
 "nbformat_minor": 2
}
